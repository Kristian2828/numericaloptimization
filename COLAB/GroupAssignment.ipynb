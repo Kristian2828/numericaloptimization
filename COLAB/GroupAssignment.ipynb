{
  "nbformat": 4,
  "nbformat_minor": 0,
  "metadata": {
    "colab": {
      "provenance": [],
      "toc_visible": true
    },
    "kernelspec": {
      "name": "python3",
      "display_name": "Python 3"
    },
    "language_info": {
      "name": "python"
    }
  },
  "cells": [
    {
      "cell_type": "markdown",
      "source": [
        "<font size=5><b>Profit Maximization through the Implementation of Simplex Method in Home Industry for Snacks Production</b></font>"
      ],
      "metadata": {
        "id": "nN3lw6KaZSJm"
      }
    },
    {
      "cell_type": "markdown",
      "source": [
        "# <h3><b> A. GROUP MEMBERS"
      ],
      "metadata": {
        "id": "XqOlkW1-aFvx"
      }
    },
    {
      "cell_type": "code",
      "source": [
        "# @title **This project has been authored by:**\n",
        "\n",
        "\n",
        "table = [[\"Kristian Surya Dinata\", \"S2043845\"],\n",
        "         [\"Tey Yi Jie\", \"17081752\"],\n",
        "         [\"Ani Yeap\", \"17218658\"],\n",
        "         [\"Chan Jie Min\", \"S2141167\"]]\n",
        "\n",
        "print(tabulate(table, headers=[\"Prepared by\", \"Matric No #\"], tablefmt=\"grid\"))"
      ],
      "metadata": {
        "colab": {
          "base_uri": "https://localhost:8080/"
        },
        "cellView": "form",
        "id": "1p9GOAMFaI8z",
        "outputId": "208d8da4-ab47-4a79-b28c-3c19a72e7711"
      },
      "execution_count": null,
      "outputs": [
        {
          "output_type": "stream",
          "name": "stdout",
          "text": [
            "+-----------------------+---------------+\n",
            "| Prepared by           | Matric No #   |\n",
            "+=======================+===============+\n",
            "| Kristian Surya Dinata | S2043845      |\n",
            "+-----------------------+---------------+\n",
            "| Tey Yi Jie            | 17081752      |\n",
            "+-----------------------+---------------+\n",
            "| Ani Yeap              | 17218658      |\n",
            "+-----------------------+---------------+\n",
            "| Chan Jie Min          | S2141167      |\n",
            "+-----------------------+---------------+\n"
          ]
        }
      ]
    },
    {
      "cell_type": "markdown",
      "source": [
        "# <h3><b> B. PROJECT OVERVIEW"
      ],
      "metadata": {
        "id": "WQvy3byMaUfy"
      }
    },
    {
      "cell_type": "markdown",
      "source": [
        "<h4><b>A. Introduction</h3></b>\n",
        "\n",
        "<p>In today's highly competitive business landscape, companies strive to achieve profitability and maintain a competitive edge. To achieve profitability, organizations must optimize their production processes and resource allocation strategies. One effective approach is to implement mathematical optimization techniques, such as linear programming, to maximize profits while considering various constraints.</p>\n",
        "\n",
        "<p>Production activities are a complex network of operations that transform inputs into finished goods. The efficiency and effectiveness of these activities directly impact a company's ability to generate profits. To ensure profitability, companies need to carefully manage their resources, including raw materials, machinery, and labor, to achieve the desired output levels with minimal costs.</p>\n",
        "\n",
        "<p>The simplex method is a widely used mathematical optimization technique that provides a systematic approach to solving linear programming problems. It aims to identify the optimal solution among a set of feasible solutions, considering both profit maximization and resource utilization. The simplex method does this by iteratively evaluating extreme points, or vertices, of the feasible region. By doing so, it efficiently determines the best allocation of resources, leading to an optimal production plan.</p>\n",
        "\n",
        "<p>The snack production industry can greatly benefit from the application of the simplex method. With a wide range of snacks and various input factors involved, including ingredients, production machinery, and labor, finding the optimal combination is crucial for maximizing profits. By utilizing the simplex method, snack producers can make informed decisions on resource allocation, production volume, and product mix, ultimately leading to improved profitability.<p>\n",
        "\n",
        "<p>In this assignment, we focus on the application of the simplex method in snacks production with the objective of profit maximization. Specifically, we examine the factors affecting profit. By formulating a linear programming model and employing the simplex method, we aim to identify the optimal resource allocation strategy that maximizes profits while satisfying various production constraints.<p>\n",
        "\n",
        "<br>\n",
        "\n",
        "<h4><b>B. Problem Statement</h3></b>\n",
        "<p>In the home snacks production industry, it struggles to maximize their profits due to inefficient resource allocation and limited understanding of mathematical optimization techniques. The absence of a systematic approach, such as linear programming with the simplex method, hinders the ability to optimize resource utilization and achieve maximum profitability. Without proper allocation of raw materials, machinery, and labor, the industry fails to exploit the full production potential, leading to suboptimal profits. Therefore, there is a critical need to address this problem by implementing the simplex method to optimize resource allocation and maximize profits in snacks production.</p><br>\n",
        "\n",
        "<b><h4>C. Objectives</h3></b>\n",
        "<ol>\n",
        "  <li>To develop and implement a linear programming model using the simplex method to optimize resource allocation in the home snacks production industry</li>\n",
        "  <li>To Maximize profitability by determining the best combination of raw materials, machinery, and labour through the application of the simplex method</li>\n",
        "  <li>To Evaluate the effectiveness of the optimization approach on production and profit within the snacks production process</li>\n",
        "</ol>"
      ],
      "metadata": {
        "id": "BuFI_jF4aci2"
      }
    },
    {
      "cell_type": "markdown",
      "source": [
        "# <h3><b> C. Literature Review"
      ],
      "metadata": {
        "id": "0qmVHKVyaxna"
      }
    },
    {
      "cell_type": "markdown",
      "source": [
        "The home snacks production industry plays a vital role in meeting the growing demand for convenient and ready-to-eat snacks. To ensure long-term sustainability and competitiveness, snack producers must focus on maximizing profits through efficient resource allocation and optimization techniques. This literature review aims to explore relevant studies and research that have investigated the application of the simplex method for profit maximization in the home snacks production industry.\n",
        "\n",
        "The simplex method, a widely recognized mathematical optimization technique, has been extensively applied to various industries for profit maximization. The simplex method provides a systematic approach to solve linear programming problems by iteratively evaluating extreme points of the feasible region. It has proven successful in optimizing resource allocation and achieving maximum profitability in manufacturing, supply chain management, and transportation sectors.\n",
        "\n",
        "To achieve maximum profitability, snack producers need to consider various factors that affect their operations. Raw material availability, production capacity, market demand, and production costs are crucial variables that influence profit margins. Furthermore, effective utilization of machinery and labour resources is critical for profit maximization in the home snacks production industry. Optimizing the production schedule and workforce allocation using the simplex method can lead to reduced idle time, improved productivity, and ultimately, higher profits.\n",
        "\n",
        "Several studies have evaluated the effectiveness of optimization approaches, including the simplex method, in the context of profit maximization in the snacks production industry.\n",
        "\n",
        "In article by Uthayageetha (2017), the methodology section briefly explains the mathematical modelling of linear programming problems using decision variables and constraints. The objective is to maximize the return on different production processes. The article includes cost data for cultivating tomato and chilli crops, including various aspects such as seed cost, labour cost, fertilizers, pest control and harvesting time. The study found out that\n",
        "\n",
        "\n",
        "\n",
        "by putting the focus on the cultivation of few main crop able to maximize their profits in agriculture.\n",
        "\n",
        "In another study by Barbieri et al. (2019) the study addresses the decision-making process of packaging section in a Brazilian e-commerce company. They implement the study by using a linear programming model using the simplex method to maximize the company's revenue based on historical data of activities for each type of product. They determine which products should be prioritized to generate the highest revenue. The results of their analysis indicate that prioritizing certain products can lead to a higher revenue.\n",
        "\n",
        "In a study to maximize the Bintang Bakery home industry who is facing a similar challenge, including limited raw materials, machinery operating hours, and labour hours. The lack of linear programming implementation and mathematical understanding in the production process is identified as a cause for not achieving maximum profits. To address these issues, the authors propose using the simplex method for solving linear programming problems, to optimize the profit level of the Bintang Bakery home industry (Anggoro et al., 2019).\n",
        "\n",
        "The literature review reveals that the implementation of the simplex method in the home snacks production industry holds promise for profit maximization. The simplex method offers a systematic approach to optimize resource allocation, production schedules, and workforce utilization. By incorporating numerous factors affecting profitability into a linear programming model, snack producers can make informed decisions and achieve higher profit margins.\n",
        "\n",
        "However, it is worth noting that further research is needed to explore specific challenges and constraints unique to the home snacks production industry. Additionally, case studies and real-world implementations are necessary to validate the effectiveness of the simplex method and its impact on profitability."
      ],
      "metadata": {
        "id": "4SsD_M-QpUHO"
      }
    },
    {
      "cell_type": "markdown",
      "source": [
        "# <h3><b> D. RESULT AND DISCUSSION"
      ],
      "metadata": {
        "id": "g6VyEAFKbE3S"
      }
    },
    {
      "cell_type": "markdown",
      "source": [
        "## <h3> 1. Snack Production </h3>\n",
        "\n",
        "The home industry specializes in producing three types of snacks: Cheese Puffs, Potato Chips, and Pretzels."
      ],
      "metadata": {
        "id": "V4JQTCYfbbvm"
      }
    },
    {
      "cell_type": "code",
      "source": [
        "# @title <h5> Table 1. Each Snack Detail </h5>\n",
        "\n",
        "\n",
        "# Import the raw data\n",
        "from pandas.io.formats.style import Styler\n",
        "import pandas as pd\n",
        "data = pd.read_excel('/content/numericaloptimization/DATA/product_data.xlsx')\n",
        "\n",
        "# Create a Styler object for the DataFrame\n",
        "styler = data.style\n",
        "\n",
        "# Apply styles to the DataFrame\n",
        "styler.set_table_styles([\n",
        "    {'selector': 'th',\n",
        "     'props': [\n",
        "         ('text-align', 'center'),\n",
        "         ('background-color', 'lightblue'),\n",
        "         ('font-weight', 'bold'),\n",
        "         ('border', '1px solid black')\n",
        "     ]},\n",
        "    {'selector': 'td',\n",
        "     'props': [\n",
        "         ('text-align', 'center'),\n",
        "         ('background-color', 'lightgray'),\n",
        "         ('border', '1px solid black')\n",
        "     ]}\n",
        "])\n",
        "\n",
        "# Display the styled DataFrame\n",
        "display(styler)"
      ],
      "metadata": {
        "colab": {
          "base_uri": "https://localhost:8080/",
          "height": 147
        },
        "cellView": "form",
        "id": "9I63luMXfQYO",
        "outputId": "e7887109-852b-416b-e4a7-7ced79f96406"
      },
      "execution_count": null,
      "outputs": [
        {
          "output_type": "display_data",
          "data": {
            "text/plain": [
              "<pandas.io.formats.style.Styler at 0x7fdad5126020>"
            ],
            "text/html": [
              "<style type=\"text/css\">\n",
              "#T_47545 th {\n",
              "  text-align: center;\n",
              "  background-color: lightblue;\n",
              "  font-weight: bold;\n",
              "  border: 1px solid black;\n",
              "}\n",
              "#T_47545 td {\n",
              "  text-align: center;\n",
              "  background-color: lightgray;\n",
              "  border: 1px solid black;\n",
              "}\n",
              "</style>\n",
              "<table id=\"T_47545\" class=\"dataframe\">\n",
              "  <thead>\n",
              "    <tr>\n",
              "      <th class=\"blank level0\" >&nbsp;</th>\n",
              "      <th id=\"T_47545_level0_col0\" class=\"col_heading level0 col0\" >Products</th>\n",
              "      <th id=\"T_47545_level0_col1\" class=\"col_heading level0 col1\" >Description</th>\n",
              "      <th id=\"T_47545_level0_col2\" class=\"col_heading level0 col2\" >Selling Price per Pack (in RM)</th>\n",
              "      <th id=\"T_47545_level0_col3\" class=\"col_heading level0 col3\" >Production Limit</th>\n",
              "      <th id=\"T_47545_level0_col4\" class=\"col_heading level0 col4\" >Maximum Profit (in RM)</th>\n",
              "    </tr>\n",
              "  </thead>\n",
              "  <tbody>\n",
              "    <tr>\n",
              "      <th id=\"T_47545_level0_row0\" class=\"row_heading level0 row0\" >0</th>\n",
              "      <td id=\"T_47545_row0_col0\" class=\"data row0 col0\" >Cheese Puffs</td>\n",
              "      <td id=\"T_47545_row0_col1\" class=\"data row0 col1\" >Light and crunchy puffed snacks with a delicious cheese flavor</td>\n",
              "      <td id=\"T_47545_row0_col2\" class=\"data row0 col2\" >5</td>\n",
              "      <td id=\"T_47545_row0_col3\" class=\"data row0 col3\" >800</td>\n",
              "      <td id=\"T_47545_row0_col4\" class=\"data row0 col4\" >4000</td>\n",
              "    </tr>\n",
              "    <tr>\n",
              "      <th id=\"T_47545_level0_row1\" class=\"row_heading level0 row1\" >1</th>\n",
              "      <td id=\"T_47545_row1_col0\" class=\"data row1 col0\" >Potato Chips</td>\n",
              "      <td id=\"T_47545_row1_col1\" class=\"data row1 col1\" >Thinly sliced and crispy potato chips, perfect for snacking</td>\n",
              "      <td id=\"T_47545_row1_col2\" class=\"data row1 col2\" >7</td>\n",
              "      <td id=\"T_47545_row1_col3\" class=\"data row1 col3\" >350</td>\n",
              "      <td id=\"T_47545_row1_col4\" class=\"data row1 col4\" >2450</td>\n",
              "    </tr>\n",
              "    <tr>\n",
              "      <th id=\"T_47545_level0_row2\" class=\"row_heading level0 row2\" >2</th>\n",
              "      <td id=\"T_47545_row2_col0\" class=\"data row2 col0\" >Pretzels</td>\n",
              "      <td id=\"T_47545_row2_col1\" class=\"data row2 col1\" >Crunchy and twisted pretzels, great for satisfying snack cravings</td>\n",
              "      <td id=\"T_47545_row2_col2\" class=\"data row2 col2\" >6</td>\n",
              "      <td id=\"T_47545_row2_col3\" class=\"data row2 col3\" >250</td>\n",
              "      <td id=\"T_47545_row2_col4\" class=\"data row2 col4\" >1500</td>\n",
              "    </tr>\n",
              "  </tbody>\n",
              "</table>\n"
            ]
          },
          "metadata": {}
        }
      ]
    },
    {
      "cell_type": "markdown",
      "source": [
        "The Snack Factory strives to create high-quality snacks that cater to different tastes and preferences. Each snack type offers a unique flavor and texture to provide a delightful snacking experience for consumers. The company focuses on optimizing production processes and resource allocation to achieve maximum profitability while maintaining product quality and customer satisfaction.\n",
        "<br><br>\n",
        "The steps in the production process for the snacks (Cheese Puffs, Potato Chips, and Pretzels) are as follows:\n",
        "<br><br>\n",
        "**1.\tPreparation of Raw Materials:**\n",
        "\n",
        "*   Cheese Puffs: Weigh and measure the required quantity of flour, cheese, salt, vegetable oil, and spices.\n",
        "*   Potato Chips: Clean, peel, and slice the potatoes into thin, uniform slices. Measure the required quantity of salt and vegetable oil.\n",
        "*   Pretzels: Prepare the dough by measuring and mixing flour, salt, yeast, and water.\n",
        "\n",
        "**2.\tMixing Ingredients / Making the Dough:**\n",
        "\n",
        "*   Cheese Puffs: Combine the flour, cheese, salt, vegetable oil, and spices in a mixing bowl. Mix the ingredients until a dough-like consistency is achieved.\n",
        "*   Potato Chips: Toss the potato slices with salt and vegetable oil to evenly coat them.\n",
        "*   Pretzels: Knead the dough mixture until it becomes smooth and elastic.\n",
        "\n",
        "**3.\tDistribution of Snack Base:**\n",
        "*   Cheese Puffs: Shape the dough into small, bite-sized balls and place them on a baking tray.\n",
        "Potato Chips: Arrange the sliced potatoes in a single layer on baking sheets.\n",
        "*   Pretzels: Divide the dough into smaller portions and shape them into pretzel twists or desired shapes.\n",
        "\n",
        "**4.\tBaking/Grilling:**\n",
        "*   Cheese Puffs: Bake the cheese puff balls in a preheated oven until they turn golden brown and crispy.\n",
        "*   Potato Chips: Fry the potato slices in hot oil until they become golden and crispy.\n",
        "*   Pretzels: Boil the pretzels in water with baking soda, then bake them in the oven until they are golden and slightly crispy on the outside.\n",
        "\n",
        "**5.\tSnack Packaging:**\n",
        "*   Cheese Puffs: Allow the cheese puffs to cool, then package them in individual List item packs or containers.\n",
        "*   Potato Chips: Allow the potato chips to cool and drain excess oil, then package them in bags or containers.\n",
        "*   Pretzels: Let the pretzels cool, then package them in bags or containers.\n",
        "\n",
        "<br>\n",
        "<h5>The Snack Factory follows these production steps to ensure the quality and consistency of its snacks. Each step is carefully executed to deliver tasty, well-packaged snacks to customers."
      ],
      "metadata": {
        "id": "-D1kZ2YrjaVp"
      }
    },
    {
      "cell_type": "markdown",
      "source": [
        "## <h3> 2. Resource Availability </h3>\n",
        "\n",
        "The table provided below illustrates the availability of essential resources for producing snacks within a span of one month. These resources, known as production factors, play a vital role in the snack manufacturing process."
      ],
      "metadata": {
        "id": "RahwGCAzk542"
      }
    },
    {
      "cell_type": "code",
      "source": [
        "# @title <h5> Table 2. Essential Resources Availability</h5>\n",
        "\n",
        "from pandas.io.formats.style import Styler\n",
        "import pandas as pd\n",
        "availability = pd.read_excel('/content/numericaloptimization/DATA/availability.xlsx')\n",
        "\n",
        "# Create a Styler object for the DataFrame\n",
        "styler = availability.style\n",
        "\n",
        "# Apply styles to the DataFrame\n",
        "styler.set_table_styles([\n",
        "    {'selector': 'th',\n",
        "     'props': [\n",
        "         ('text-align', 'center'),\n",
        "         ('background-color', 'lightblue'),\n",
        "         ('font-weight', 'bold'),\n",
        "         ('border', '1px solid black')\n",
        "     ]},\n",
        "    {'selector': 'td',\n",
        "     'props': [\n",
        "         ('text-align', 'center'),\n",
        "         ('background-color', 'lightgray'),\n",
        "         ('border', '1px solid black')\n",
        "     ]}\n",
        "])\n",
        "\n",
        "# Display the styled DataFrame\n",
        "display(styler)"
      ],
      "metadata": {
        "colab": {
          "base_uri": "https://localhost:8080/",
          "height": 503
        },
        "cellView": "form",
        "id": "Zht8yHjOk8HO",
        "outputId": "3cb07cb3-7ff5-4884-c8b0-61a3713f3cd7"
      },
      "execution_count": null,
      "outputs": [
        {
          "output_type": "display_data",
          "data": {
            "text/plain": [
              "<pandas.io.formats.style.Styler at 0x7fdac8084b80>"
            ],
            "text/html": [
              "<style type=\"text/css\">\n",
              "#T_facbe th {\n",
              "  text-align: center;\n",
              "  background-color: lightblue;\n",
              "  font-weight: bold;\n",
              "  border: 1px solid black;\n",
              "}\n",
              "#T_facbe td {\n",
              "  text-align: center;\n",
              "  background-color: lightgray;\n",
              "  border: 1px solid black;\n",
              "}\n",
              "</style>\n",
              "<table id=\"T_facbe\" class=\"dataframe\">\n",
              "  <thead>\n",
              "    <tr>\n",
              "      <th class=\"blank level0\" >&nbsp;</th>\n",
              "      <th id=\"T_facbe_level0_col0\" class=\"col_heading level0 col0\" >Input Factor</th>\n",
              "      <th id=\"T_facbe_level0_col1\" class=\"col_heading level0 col1\" >Resource Availability</th>\n",
              "      <th id=\"T_facbe_level0_col2\" class=\"col_heading level0 col2\" >Unit</th>\n",
              "    </tr>\n",
              "  </thead>\n",
              "  <tbody>\n",
              "    <tr>\n",
              "      <th id=\"T_facbe_level0_row0\" class=\"row_heading level0 row0\" >0</th>\n",
              "      <td id=\"T_facbe_row0_col0\" class=\"data row0 col0\" >Flour </td>\n",
              "      <td id=\"T_facbe_row0_col1\" class=\"data row0 col1\" >350</td>\n",
              "      <td id=\"T_facbe_row0_col2\" class=\"data row0 col2\" >kg</td>\n",
              "    </tr>\n",
              "    <tr>\n",
              "      <th id=\"T_facbe_level0_row1\" class=\"row_heading level0 row1\" >1</th>\n",
              "      <td id=\"T_facbe_row1_col0\" class=\"data row1 col0\" >Sugar </td>\n",
              "      <td id=\"T_facbe_row1_col1\" class=\"data row1 col1\" >250</td>\n",
              "      <td id=\"T_facbe_row1_col2\" class=\"data row1 col2\" >kg</td>\n",
              "    </tr>\n",
              "    <tr>\n",
              "      <th id=\"T_facbe_level0_row2\" class=\"row_heading level0 row2\" >2</th>\n",
              "      <td id=\"T_facbe_row2_col0\" class=\"data row2 col0\" >Vegetable Oil </td>\n",
              "      <td id=\"T_facbe_row2_col1\" class=\"data row2 col1\" >50</td>\n",
              "      <td id=\"T_facbe_row2_col2\" class=\"data row2 col2\" >kg</td>\n",
              "    </tr>\n",
              "    <tr>\n",
              "      <th id=\"T_facbe_level0_row3\" class=\"row_heading level0 row3\" >3</th>\n",
              "      <td id=\"T_facbe_row3_col0\" class=\"data row3 col0\" >Salt </td>\n",
              "      <td id=\"T_facbe_row3_col1\" class=\"data row3 col1\" >15</td>\n",
              "      <td id=\"T_facbe_row3_col2\" class=\"data row3 col2\" >kg</td>\n",
              "    </tr>\n",
              "    <tr>\n",
              "      <th id=\"T_facbe_level0_row4\" class=\"row_heading level0 row4\" >4</th>\n",
              "      <td id=\"T_facbe_row4_col0\" class=\"data row4 col0\" >Cheese </td>\n",
              "      <td id=\"T_facbe_row4_col1\" class=\"data row4 col1\" >100</td>\n",
              "      <td id=\"T_facbe_row4_col2\" class=\"data row4 col2\" >kg</td>\n",
              "    </tr>\n",
              "    <tr>\n",
              "      <th id=\"T_facbe_level0_row5\" class=\"row_heading level0 row5\" >5</th>\n",
              "      <td id=\"T_facbe_row5_col0\" class=\"data row5 col0\" >Spices </td>\n",
              "      <td id=\"T_facbe_row5_col1\" class=\"data row5 col1\" >50</td>\n",
              "      <td id=\"T_facbe_row5_col2\" class=\"data row5 col2\" >kg</td>\n",
              "    </tr>\n",
              "    <tr>\n",
              "      <th id=\"T_facbe_level0_row6\" class=\"row_heading level0 row6\" >6</th>\n",
              "      <td id=\"T_facbe_row6_col0\" class=\"data row6 col0\" >Baking Powder </td>\n",
              "      <td id=\"T_facbe_row6_col1\" class=\"data row6 col1\" >30</td>\n",
              "      <td id=\"T_facbe_row6_col2\" class=\"data row6 col2\" >kg</td>\n",
              "    </tr>\n",
              "    <tr>\n",
              "      <th id=\"T_facbe_level0_row7\" class=\"row_heading level0 row7\" >7</th>\n",
              "      <td id=\"T_facbe_row7_col0\" class=\"data row7 col0\" >Yeast </td>\n",
              "      <td id=\"T_facbe_row7_col1\" class=\"data row7 col1\" >2</td>\n",
              "      <td id=\"T_facbe_row7_col2\" class=\"data row7 col2\" >kg</td>\n",
              "    </tr>\n",
              "    <tr>\n",
              "      <th id=\"T_facbe_level0_row8\" class=\"row_heading level0 row8\" >8</th>\n",
              "      <td id=\"T_facbe_row8_col0\" class=\"data row8 col0\" >Butter </td>\n",
              "      <td id=\"T_facbe_row8_col1\" class=\"data row8 col1\" >100</td>\n",
              "      <td id=\"T_facbe_row8_col2\" class=\"data row8 col2\" >kg</td>\n",
              "    </tr>\n",
              "    <tr>\n",
              "      <th id=\"T_facbe_level0_row9\" class=\"row_heading level0 row9\" >9</th>\n",
              "      <td id=\"T_facbe_row9_col0\" class=\"data row9 col0\" >Flour</td>\n",
              "      <td id=\"T_facbe_row9_col1\" class=\"data row9 col1\" >300</td>\n",
              "      <td id=\"T_facbe_row9_col2\" class=\"data row9 col2\" >kg</td>\n",
              "    </tr>\n",
              "    <tr>\n",
              "      <th id=\"T_facbe_level0_row10\" class=\"row_heading level0 row10\" >10</th>\n",
              "      <td id=\"T_facbe_row10_col0\" class=\"data row10 col0\" >Mixer </td>\n",
              "      <td id=\"T_facbe_row10_col1\" class=\"data row10 col1\" >10</td>\n",
              "      <td id=\"T_facbe_row10_col2\" class=\"data row10 col2\" >Hour</td>\n",
              "    </tr>\n",
              "    <tr>\n",
              "      <th id=\"T_facbe_level0_row11\" class=\"row_heading level0 row11\" >11</th>\n",
              "      <td id=\"T_facbe_row11_col0\" class=\"data row11 col0\" >Oven </td>\n",
              "      <td id=\"T_facbe_row11_col1\" class=\"data row11 col1\" >5</td>\n",
              "      <td id=\"T_facbe_row11_col2\" class=\"data row11 col2\" >Hour</td>\n",
              "    </tr>\n",
              "    <tr>\n",
              "      <th id=\"T_facbe_level0_row12\" class=\"row_heading level0 row12\" >12</th>\n",
              "      <td id=\"T_facbe_row12_col0\" class=\"data row12 col0\" >Packaging Machine </td>\n",
              "      <td id=\"T_facbe_row12_col1\" class=\"data row12 col1\" >15</td>\n",
              "      <td id=\"T_facbe_row12_col2\" class=\"data row12 col2\" >Hour</td>\n",
              "    </tr>\n",
              "    <tr>\n",
              "      <th id=\"T_facbe_level0_row13\" class=\"row_heading level0 row13\" >13</th>\n",
              "      <td id=\"T_facbe_row13_col0\" class=\"data row13 col0\" >Labor Hours</td>\n",
              "      <td id=\"T_facbe_row13_col1\" class=\"data row13 col1\" >60</td>\n",
              "      <td id=\"T_facbe_row13_col2\" class=\"data row13 col2\" >Hour</td>\n",
              "    </tr>\n",
              "  </tbody>\n",
              "</table>\n"
            ]
          },
          "metadata": {}
        }
      ]
    },
    {
      "cell_type": "markdown",
      "source": [
        "## <h3> 3. Resource Utilization </h3>\n",
        "\n",
        "The table provided below illustrates the utilization of essential resources for producing snacks."
      ],
      "metadata": {
        "id": "tKWEIKy99eNW"
      }
    },
    {
      "cell_type": "code",
      "source": [
        "# @title <h5> Table 3. Essential Resources Utilization</h5>\n",
        "\n",
        "\n",
        "# Import the raw data\n",
        "from pandas.io.formats.style import Styler\n",
        "import pandas as pd\n",
        "production = pd.read_excel('/content/numericaloptimization/DATA/production.xlsx')\n",
        "\n",
        "# Create a Styler object for the DataFrame\n",
        "styler = production.style\n",
        "\n",
        "# Apply styles to the DataFrame\n",
        "styler.set_table_styles([\n",
        "    {'selector': 'th',\n",
        "     'props': [\n",
        "         ('text-align', 'center'),\n",
        "         ('background-color', 'lightblue'),\n",
        "         ('font-weight', 'bold'),\n",
        "         ('border', '1px solid black')\n",
        "     ]},\n",
        "    {'selector': 'td',\n",
        "     'props': [\n",
        "         ('text-align', 'center'),\n",
        "         ('background-color', 'lightgray'),\n",
        "         ('border', '1px solid black')\n",
        "     ]}\n",
        "])\n",
        "\n",
        "# Display the styled DataFrame\n",
        "display(styler)"
      ],
      "metadata": {
        "colab": {
          "base_uri": "https://localhost:8080/",
          "height": 568
        },
        "cellView": "form",
        "id": "0nV2cPbVq3pV",
        "outputId": "63af870a-9de1-4db4-be62-bf6f1d290ed8"
      },
      "execution_count": null,
      "outputs": [
        {
          "output_type": "display_data",
          "data": {
            "text/plain": [
              "<pandas.io.formats.style.Styler at 0x7fdb0c4cf9d0>"
            ],
            "text/html": [
              "<style type=\"text/css\">\n",
              "#T_cbea7 th {\n",
              "  text-align: center;\n",
              "  background-color: lightblue;\n",
              "  font-weight: bold;\n",
              "  border: 1px solid black;\n",
              "}\n",
              "#T_cbea7 td {\n",
              "  text-align: center;\n",
              "  background-color: lightgray;\n",
              "  border: 1px solid black;\n",
              "}\n",
              "</style>\n",
              "<table id=\"T_cbea7\" class=\"dataframe\">\n",
              "  <thead>\n",
              "    <tr>\n",
              "      <th class=\"blank level0\" >&nbsp;</th>\n",
              "      <th id=\"T_cbea7_level0_col0\" class=\"col_heading level0 col0\" >Input Factor</th>\n",
              "      <th id=\"T_cbea7_level0_col1\" class=\"col_heading level0 col1\" >Cheese Puffs</th>\n",
              "      <th id=\"T_cbea7_level0_col2\" class=\"col_heading level0 col2\" >Potato Chips</th>\n",
              "      <th id=\"T_cbea7_level0_col3\" class=\"col_heading level0 col3\" >Pretzels</th>\n",
              "    </tr>\n",
              "  </thead>\n",
              "  <tbody>\n",
              "    <tr>\n",
              "      <th id=\"T_cbea7_level0_row0\" class=\"row_heading level0 row0\" >0</th>\n",
              "      <td id=\"T_cbea7_row0_col0\" class=\"data row0 col0\" >Flour (grams)</td>\n",
              "      <td id=\"T_cbea7_row0_col1\" class=\"data row0 col1\" >150</td>\n",
              "      <td id=\"T_cbea7_row0_col2\" class=\"data row0 col2\" >200</td>\n",
              "      <td id=\"T_cbea7_row0_col3\" class=\"data row0 col3\" >250</td>\n",
              "    </tr>\n",
              "    <tr>\n",
              "      <th id=\"T_cbea7_level0_row1\" class=\"row_heading level0 row1\" >1</th>\n",
              "      <td id=\"T_cbea7_row1_col0\" class=\"data row1 col0\" >Cheese (grams)</td>\n",
              "      <td id=\"T_cbea7_row1_col1\" class=\"data row1 col1\" >20</td>\n",
              "      <td id=\"T_cbea7_row1_col2\" class=\"data row1 col2\" >5</td>\n",
              "      <td id=\"T_cbea7_row1_col3\" class=\"data row1 col3\" >7</td>\n",
              "    </tr>\n",
              "    <tr>\n",
              "      <th id=\"T_cbea7_level0_row2\" class=\"row_heading level0 row2\" >2</th>\n",
              "      <td id=\"T_cbea7_row2_col0\" class=\"data row2 col0\" >Potatoes (grams)</td>\n",
              "      <td id=\"T_cbea7_row2_col1\" class=\"data row2 col1\" >-</td>\n",
              "      <td id=\"T_cbea7_row2_col2\" class=\"data row2 col2\" >50</td>\n",
              "      <td id=\"T_cbea7_row2_col3\" class=\"data row2 col3\" >-</td>\n",
              "    </tr>\n",
              "    <tr>\n",
              "      <th id=\"T_cbea7_level0_row3\" class=\"row_heading level0 row3\" >3</th>\n",
              "      <td id=\"T_cbea7_row3_col0\" class=\"data row3 col0\" >Salt (grams)</td>\n",
              "      <td id=\"T_cbea7_row3_col1\" class=\"data row3 col1\" >5</td>\n",
              "      <td id=\"T_cbea7_row3_col2\" class=\"data row3 col2\" >7</td>\n",
              "      <td id=\"T_cbea7_row3_col3\" class=\"data row3 col3\" >8</td>\n",
              "    </tr>\n",
              "    <tr>\n",
              "      <th id=\"T_cbea7_level0_row4\" class=\"row_heading level0 row4\" >4</th>\n",
              "      <td id=\"T_cbea7_row4_col0\" class=\"data row4 col0\" >Vegetable Oil (grams)</td>\n",
              "      <td id=\"T_cbea7_row4_col1\" class=\"data row4 col1\" >15</td>\n",
              "      <td id=\"T_cbea7_row4_col2\" class=\"data row4 col2\" >25</td>\n",
              "      <td id=\"T_cbea7_row4_col3\" class=\"data row4 col3\" >20</td>\n",
              "    </tr>\n",
              "    <tr>\n",
              "      <th id=\"T_cbea7_level0_row5\" class=\"row_heading level0 row5\" >5</th>\n",
              "      <td id=\"T_cbea7_row5_col0\" class=\"data row5 col0\" >Baking Powder (grams)</td>\n",
              "      <td id=\"T_cbea7_row5_col1\" class=\"data row5 col1\" >5</td>\n",
              "      <td id=\"T_cbea7_row5_col2\" class=\"data row5 col2\" >-</td>\n",
              "      <td id=\"T_cbea7_row5_col3\" class=\"data row5 col3\" >-</td>\n",
              "    </tr>\n",
              "    <tr>\n",
              "      <th id=\"T_cbea7_level0_row6\" class=\"row_heading level0 row6\" >6</th>\n",
              "      <td id=\"T_cbea7_row6_col0\" class=\"data row6 col0\" >Sugar (grams)</td>\n",
              "      <td id=\"T_cbea7_row6_col1\" class=\"data row6 col1\" >12</td>\n",
              "      <td id=\"T_cbea7_row6_col2\" class=\"data row6 col2\" >8</td>\n",
              "      <td id=\"T_cbea7_row6_col3\" class=\"data row6 col3\" >15</td>\n",
              "    </tr>\n",
              "    <tr>\n",
              "      <th id=\"T_cbea7_level0_row7\" class=\"row_heading level0 row7\" >7</th>\n",
              "      <td id=\"T_cbea7_row7_col0\" class=\"data row7 col0\" >Egg (grams)</td>\n",
              "      <td id=\"T_cbea7_row7_col1\" class=\"data row7 col1\" >200</td>\n",
              "      <td id=\"T_cbea7_row7_col2\" class=\"data row7 col2\" >300</td>\n",
              "      <td id=\"T_cbea7_row7_col3\" class=\"data row7 col3\" >250</td>\n",
              "    </tr>\n",
              "    <tr>\n",
              "      <th id=\"T_cbea7_level0_row8\" class=\"row_heading level0 row8\" >8</th>\n",
              "      <td id=\"T_cbea7_row8_col0\" class=\"data row8 col0\" >Yeast (grams)</td>\n",
              "      <td id=\"T_cbea7_row8_col1\" class=\"data row8 col1\" >-</td>\n",
              "      <td id=\"T_cbea7_row8_col2\" class=\"data row8 col2\" >-</td>\n",
              "      <td id=\"T_cbea7_row8_col3\" class=\"data row8 col3\" >5</td>\n",
              "    </tr>\n",
              "    <tr>\n",
              "      <th id=\"T_cbea7_level0_row9\" class=\"row_heading level0 row9\" >9</th>\n",
              "      <td id=\"T_cbea7_row9_col0\" class=\"data row9 col0\" >Spices (grams)</td>\n",
              "      <td id=\"T_cbea7_row9_col1\" class=\"data row9 col1\" >5</td>\n",
              "      <td id=\"T_cbea7_row9_col2\" class=\"data row9 col2\" >10</td>\n",
              "      <td id=\"T_cbea7_row9_col3\" class=\"data row9 col3\" >5</td>\n",
              "    </tr>\n",
              "    <tr>\n",
              "      <th id=\"T_cbea7_level0_row10\" class=\"row_heading level0 row10\" >10</th>\n",
              "      <td id=\"T_cbea7_row10_col0\" class=\"data row10 col0\" >Butter (grams)</td>\n",
              "      <td id=\"T_cbea7_row10_col1\" class=\"data row10 col1\" >4</td>\n",
              "      <td id=\"T_cbea7_row10_col2\" class=\"data row10 col2\" >6</td>\n",
              "      <td id=\"T_cbea7_row10_col3\" class=\"data row10 col3\" >8</td>\n",
              "    </tr>\n",
              "    <tr>\n",
              "      <th id=\"T_cbea7_level0_row11\" class=\"row_heading level0 row11\" >11</th>\n",
              "      <td id=\"T_cbea7_row11_col0\" class=\"data row11 col0\" >Machine Working Hours (s)</td>\n",
              "      <td id=\"T_cbea7_row11_col1\" class=\"data row11 col1\" >60</td>\n",
              "      <td id=\"T_cbea7_row11_col2\" class=\"data row11 col2\" >90</td>\n",
              "      <td id=\"T_cbea7_row11_col3\" class=\"data row11 col3\" >75</td>\n",
              "    </tr>\n",
              "    <tr>\n",
              "      <th id=\"T_cbea7_level0_row12\" class=\"row_heading level0 row12\" >12</th>\n",
              "      <td id=\"T_cbea7_row12_col0\" class=\"data row12 col0\" >Labor Hours (s)</td>\n",
              "      <td id=\"T_cbea7_row12_col1\" class=\"data row12 col1\" >45</td>\n",
              "      <td id=\"T_cbea7_row12_col2\" class=\"data row12 col2\" >75</td>\n",
              "      <td id=\"T_cbea7_row12_col3\" class=\"data row12 col3\" >60</td>\n",
              "    </tr>\n",
              "    <tr>\n",
              "      <th id=\"T_cbea7_level0_row13\" class=\"row_heading level0 row13\" >13</th>\n",
              "      <td id=\"T_cbea7_row13_col0\" class=\"data row13 col0\" >Selling Price per Pack (RM)</td>\n",
              "      <td id=\"T_cbea7_row13_col1\" class=\"data row13 col1\" >5</td>\n",
              "      <td id=\"T_cbea7_row13_col2\" class=\"data row13 col2\" >7</td>\n",
              "      <td id=\"T_cbea7_row13_col3\" class=\"data row13 col3\" >6</td>\n",
              "    </tr>\n",
              "    <tr>\n",
              "      <th id=\"T_cbea7_level0_row14\" class=\"row_heading level0 row14\" >14</th>\n",
              "      <td id=\"T_cbea7_row14_col0\" class=\"data row14 col0\" >Production Limit (packs)</td>\n",
              "      <td id=\"T_cbea7_row14_col1\" class=\"data row14 col1\" >800</td>\n",
              "      <td id=\"T_cbea7_row14_col2\" class=\"data row14 col2\" >350</td>\n",
              "      <td id=\"T_cbea7_row14_col3\" class=\"data row14 col3\" >250</td>\n",
              "    </tr>\n",
              "    <tr>\n",
              "      <th id=\"T_cbea7_level0_row15\" class=\"row_heading level0 row15\" >15</th>\n",
              "      <td id=\"T_cbea7_row15_col0\" class=\"data row15 col0\" >Maximum Profit (RM)</td>\n",
              "      <td id=\"T_cbea7_row15_col1\" class=\"data row15 col1\" >P1</td>\n",
              "      <td id=\"T_cbea7_row15_col2\" class=\"data row15 col2\" >P2</td>\n",
              "      <td id=\"T_cbea7_row15_col3\" class=\"data row15 col3\" >P3</td>\n",
              "    </tr>\n",
              "  </tbody>\n",
              "</table>\n"
            ]
          },
          "metadata": {}
        }
      ]
    },
    {
      "cell_type": "markdown",
      "source": [
        "## <h3> 4. Simplex Method </h3>\n",
        "\n",
        "To conclude the simplex method and derive an optimization model for maximizing profits in the home industry, the steps are outlined below:"
      ],
      "metadata": {
        "id": "PmwK9rO2ramZ"
      }
    },
    {
      "cell_type": "markdown",
      "source": [
        "### **<h5>a. Set Decision Variables**</h5>\n",
        "\n",
        "In solving linear program problem for the home industry, the decision variables are defined to represent the different types of snacks produced. The quantities produced for each snack type are provided in the table below, with 𝑥1 representing Cheese Puffs (800 packs), 𝑥2 representing Potato Chips (365 packs), and 𝑥3 representing Pretzels (250 packs)."
      ],
      "metadata": {
        "id": "pg4pOSqFA8lq"
      }
    },
    {
      "cell_type": "code",
      "source": [
        "# @title <h5>Table 4. Decision Variables </h5>\n",
        "\n",
        "# Import the raw data\n",
        "from pandas.io.formats.style import Styler\n",
        "import pandas as pd\n",
        "variable = pd.read_excel('/content/numericaloptimization/DATA/variable.xlsx')\n",
        "\n",
        "# Create a Styler object for the DataFrame\n",
        "styler = variable.style\n",
        "\n",
        "# Apply styles to the DataFrame\n",
        "styler.set_table_styles([\n",
        "    {'selector': 'th',\n",
        "     'props': [\n",
        "         ('text-align', 'center'),\n",
        "         ('background-color', 'lightblue'),\n",
        "         ('font-weight', 'bold'),\n",
        "         ('border', '1px solid black')\n",
        "     ]},\n",
        "    {'selector': 'td',\n",
        "     'props': [\n",
        "         ('text-align', 'center'),\n",
        "         ('background-color', 'lightgray'),\n",
        "         ('border', '1px solid black')\n",
        "     ]}\n",
        "])\n",
        "\n",
        "# Display the styled DataFrame\n",
        "display(styler)"
      ],
      "metadata": {
        "colab": {
          "base_uri": "https://localhost:8080/",
          "height": 147
        },
        "cellView": "form",
        "id": "BZYZ0YPUre7s",
        "outputId": "d1a2eabc-baa2-4734-a7cd-de1e75eaa400"
      },
      "execution_count": null,
      "outputs": [
        {
          "output_type": "display_data",
          "data": {
            "text/plain": [
              "<pandas.io.formats.style.Styler at 0x7fdac8087f10>"
            ],
            "text/html": [
              "<style type=\"text/css\">\n",
              "#T_0cb16 th {\n",
              "  text-align: center;\n",
              "  background-color: lightblue;\n",
              "  font-weight: bold;\n",
              "  border: 1px solid black;\n",
              "}\n",
              "#T_0cb16 td {\n",
              "  text-align: center;\n",
              "  background-color: lightgray;\n",
              "  border: 1px solid black;\n",
              "}\n",
              "</style>\n",
              "<table id=\"T_0cb16\" class=\"dataframe\">\n",
              "  <thead>\n",
              "    <tr>\n",
              "      <th class=\"blank level0\" >&nbsp;</th>\n",
              "      <th id=\"T_0cb16_level0_col0\" class=\"col_heading level0 col0\" >Decision Variable</th>\n",
              "      <th id=\"T_0cb16_level0_col1\" class=\"col_heading level0 col1\" >Bread Type</th>\n",
              "      <th id=\"T_0cb16_level0_col2\" class=\"col_heading level0 col2\" >Quantity Produced (in packs)</th>\n",
              "    </tr>\n",
              "  </thead>\n",
              "  <tbody>\n",
              "    <tr>\n",
              "      <th id=\"T_0cb16_level0_row0\" class=\"row_heading level0 row0\" >0</th>\n",
              "      <td id=\"T_0cb16_row0_col0\" class=\"data row0 col0\" >x1</td>\n",
              "      <td id=\"T_0cb16_row0_col1\" class=\"data row0 col1\" >Cheese Puffs</td>\n",
              "      <td id=\"T_0cb16_row0_col2\" class=\"data row0 col2\" >800</td>\n",
              "    </tr>\n",
              "    <tr>\n",
              "      <th id=\"T_0cb16_level0_row1\" class=\"row_heading level0 row1\" >1</th>\n",
              "      <td id=\"T_0cb16_row1_col0\" class=\"data row1 col0\" >x2</td>\n",
              "      <td id=\"T_0cb16_row1_col1\" class=\"data row1 col1\" >Potato Chips</td>\n",
              "      <td id=\"T_0cb16_row1_col2\" class=\"data row1 col2\" >350</td>\n",
              "    </tr>\n",
              "    <tr>\n",
              "      <th id=\"T_0cb16_level0_row2\" class=\"row_heading level0 row2\" >2</th>\n",
              "      <td id=\"T_0cb16_row2_col0\" class=\"data row2 col0\" >x3</td>\n",
              "      <td id=\"T_0cb16_row2_col1\" class=\"data row2 col1\" >Pretzels</td>\n",
              "      <td id=\"T_0cb16_row2_col2\" class=\"data row2 col2\" >250</td>\n",
              "    </tr>\n",
              "  </tbody>\n",
              "</table>\n"
            ]
          },
          "metadata": {}
        }
      ]
    },
    {
      "cell_type": "markdown",
      "source": [
        "### **<h5>b. Set Constraints**</h5>\n",
        "\n",
        "By setting clear constraints, we simplify the production process and work towards achieving our snack production goals with greater focus and efficiency. The given constraints represent various limitations for the home industry. Each constraint is defined by an equation or inequality that should be satisfied by the decision variables 𝑥1, 𝑥2, and 𝑥3. The corresponding limits or thresholds are specified in the table above."
      ],
      "metadata": {
        "id": "G-EsLpF3saYC"
      }
    },
    {
      "cell_type": "code",
      "source": [
        "# @title <h5>Table 5. Constraints </h5>\n",
        "\n",
        "# Import the raw data\n",
        "from pandas.io.formats.style import Styler\n",
        "import pandas as pd\n",
        "constraint = pd.read_excel('/content/numericaloptimization/DATA/constraint.xlsx')\n",
        "\n",
        "# Create a Styler object for the DataFrame\n",
        "styler = constraint.style\n",
        "\n",
        "# Apply styles to the DataFrame\n",
        "styler.set_table_styles([\n",
        "    {'selector': 'th',\n",
        "     'props': [\n",
        "         ('text-align', 'center'),\n",
        "         ('background-color', 'lightblue'),\n",
        "         ('font-weight', 'bold'),\n",
        "         ('border', '1px solid black')\n",
        "     ]},\n",
        "    {'selector': 'td',\n",
        "     'props': [\n",
        "         ('text-align', 'center'),\n",
        "         ('background-color', 'lightgray'),\n",
        "         ('border', '1px solid black')\n",
        "     ]}\n",
        "])\n",
        "\n",
        "# Display the styled DataFrame\n",
        "display(styler)"
      ],
      "metadata": {
        "colab": {
          "base_uri": "https://localhost:8080/",
          "height": 568
        },
        "cellView": "form",
        "id": "IeGJalcdseY9",
        "outputId": "758caea4-9a92-4c29-bcc4-6d08c636dac3"
      },
      "execution_count": null,
      "outputs": [
        {
          "output_type": "display_data",
          "data": {
            "text/plain": [
              "<pandas.io.formats.style.Styler at 0x7fdac8087fa0>"
            ],
            "text/html": [
              "<style type=\"text/css\">\n",
              "#T_4e3b9 th {\n",
              "  text-align: center;\n",
              "  background-color: lightblue;\n",
              "  font-weight: bold;\n",
              "  border: 1px solid black;\n",
              "}\n",
              "#T_4e3b9 td {\n",
              "  text-align: center;\n",
              "  background-color: lightgray;\n",
              "  border: 1px solid black;\n",
              "}\n",
              "</style>\n",
              "<table id=\"T_4e3b9\" class=\"dataframe\">\n",
              "  <thead>\n",
              "    <tr>\n",
              "      <th class=\"blank level0\" >&nbsp;</th>\n",
              "      <th id=\"T_4e3b9_level0_col0\" class=\"col_heading level0 col0\" >Constraint</th>\n",
              "      <th id=\"T_4e3b9_level0_col1\" class=\"col_heading level0 col1\" >Equation</th>\n",
              "    </tr>\n",
              "  </thead>\n",
              "  <tbody>\n",
              "    <tr>\n",
              "      <th id=\"T_4e3b9_level0_row0\" class=\"row_heading level0 row0\" >0</th>\n",
              "      <td id=\"T_4e3b9_row0_col0\" class=\"data row0 col0\" >flour</td>\n",
              "      <td id=\"T_4e3b9_row0_col1\" class=\"data row0 col1\" >150x1 + 200x2 + 250x3 ≤ 350000</td>\n",
              "    </tr>\n",
              "    <tr>\n",
              "      <th id=\"T_4e3b9_level0_row1\" class=\"row_heading level0 row1\" >1</th>\n",
              "      <td id=\"T_4e3b9_row1_col0\" class=\"data row1 col0\" >cheese</td>\n",
              "      <td id=\"T_4e3b9_row1_col1\" class=\"data row1 col1\" >50x1 + 5x2 + 7x3 ≤ 250000</td>\n",
              "    </tr>\n",
              "    <tr>\n",
              "      <th id=\"T_4e3b9_level0_row2\" class=\"row_heading level0 row2\" >2</th>\n",
              "      <td id=\"T_4e3b9_row2_col0\" class=\"data row2 col0\" >potatoes</td>\n",
              "      <td id=\"T_4e3b9_row2_col1\" class=\"data row2 col1\" >50x2 ≤ 60000</td>\n",
              "    </tr>\n",
              "    <tr>\n",
              "      <th id=\"T_4e3b9_level0_row3\" class=\"row_heading level0 row3\" >3</th>\n",
              "      <td id=\"T_4e3b9_row3_col0\" class=\"data row3 col0\" >salt</td>\n",
              "      <td id=\"T_4e3b9_row3_col1\" class=\"data row3 col1\" >5x1 + 7x2 + 8x3 ≤ 10000</td>\n",
              "    </tr>\n",
              "    <tr>\n",
              "      <th id=\"T_4e3b9_level0_row4\" class=\"row_heading level0 row4\" >4</th>\n",
              "      <td id=\"T_4e3b9_row4_col0\" class=\"data row4 col0\" >vegetable oil</td>\n",
              "      <td id=\"T_4e3b9_row4_col1\" class=\"data row4 col1\" >15x1 + 25x2 + 20x3 ≤ 100000</td>\n",
              "    </tr>\n",
              "    <tr>\n",
              "      <th id=\"T_4e3b9_level0_row5\" class=\"row_heading level0 row5\" >5</th>\n",
              "      <td id=\"T_4e3b9_row5_col0\" class=\"data row5 col0\" >baking powder</td>\n",
              "      <td id=\"T_4e3b9_row5_col1\" class=\"data row5 col1\" >5x1 ≤ 50000</td>\n",
              "    </tr>\n",
              "    <tr>\n",
              "      <th id=\"T_4e3b9_level0_row6\" class=\"row_heading level0 row6\" >6</th>\n",
              "      <td id=\"T_4e3b9_row6_col0\" class=\"data row6 col0\" >sugar</td>\n",
              "      <td id=\"T_4e3b9_row6_col1\" class=\"data row6 col1\" >12x1 + 8x2 + 15x3 ≤ 30000</td>\n",
              "    </tr>\n",
              "    <tr>\n",
              "      <th id=\"T_4e3b9_level0_row7\" class=\"row_heading level0 row7\" >7</th>\n",
              "      <td id=\"T_4e3b9_row7_col0\" class=\"data row7 col0\" >egg</td>\n",
              "      <td id=\"T_4e3b9_row7_col1\" class=\"data row7 col1\" >200x1 + 300x2 + 250x3 ≤ 500000</td>\n",
              "    </tr>\n",
              "    <tr>\n",
              "      <th id=\"T_4e3b9_level0_row8\" class=\"row_heading level0 row8\" >8</th>\n",
              "      <td id=\"T_4e3b9_row8_col0\" class=\"data row8 col0\" >yeast</td>\n",
              "      <td id=\"T_4e3b9_row8_col1\" class=\"data row8 col1\" >5x3 ≤ 2000</td>\n",
              "    </tr>\n",
              "    <tr>\n",
              "      <th id=\"T_4e3b9_level0_row9\" class=\"row_heading level0 row9\" >9</th>\n",
              "      <td id=\"T_4e3b9_row9_col0\" class=\"data row9 col0\" >spices</td>\n",
              "      <td id=\"T_4e3b9_row9_col1\" class=\"data row9 col1\" >5x1 + 10x2 + 5x3 ≤ 10000</td>\n",
              "    </tr>\n",
              "    <tr>\n",
              "      <th id=\"T_4e3b9_level0_row10\" class=\"row_heading level0 row10\" >10</th>\n",
              "      <td id=\"T_4e3b9_row10_col0\" class=\"data row10 col0\" >butter</td>\n",
              "      <td id=\"T_4e3b9_row10_col1\" class=\"data row10 col1\" >4x1 + 6x2 + 8x3 ≤ 30000</td>\n",
              "    </tr>\n",
              "    <tr>\n",
              "      <th id=\"T_4e3b9_level0_row11\" class=\"row_heading level0 row11\" >11</th>\n",
              "      <td id=\"T_4e3b9_row11_col0\" class=\"data row11 col0\" >machine</td>\n",
              "      <td id=\"T_4e3b9_row11_col1\" class=\"data row11 col1\" >60x1 + 90x2 + 75x3 ≤ 108000</td>\n",
              "    </tr>\n",
              "    <tr>\n",
              "      <th id=\"T_4e3b9_level0_row12\" class=\"row_heading level0 row12\" >12</th>\n",
              "      <td id=\"T_4e3b9_row12_col0\" class=\"data row12 col0\" >labor</td>\n",
              "      <td id=\"T_4e3b9_row12_col1\" class=\"data row12 col1\" >45x1 + 75x2 + 60x3 ≤ 216000</td>\n",
              "    </tr>\n",
              "    <tr>\n",
              "      <th id=\"T_4e3b9_level0_row13\" class=\"row_heading level0 row13\" >13</th>\n",
              "      <td id=\"T_4e3b9_row13_col0\" class=\"data row13 col0\" >nan</td>\n",
              "      <td id=\"T_4e3b9_row13_col1\" class=\"data row13 col1\" >x1 ≥ 800</td>\n",
              "    </tr>\n",
              "    <tr>\n",
              "      <th id=\"T_4e3b9_level0_row14\" class=\"row_heading level0 row14\" >14</th>\n",
              "      <td id=\"T_4e3b9_row14_col0\" class=\"data row14 col0\" >nan</td>\n",
              "      <td id=\"T_4e3b9_row14_col1\" class=\"data row14 col1\" >x2 ≥ 350</td>\n",
              "    </tr>\n",
              "    <tr>\n",
              "      <th id=\"T_4e3b9_level0_row15\" class=\"row_heading level0 row15\" >15</th>\n",
              "      <td id=\"T_4e3b9_row15_col0\" class=\"data row15 col0\" >nan</td>\n",
              "      <td id=\"T_4e3b9_row15_col1\" class=\"data row15 col1\" >x3 ≥ 250</td>\n",
              "    </tr>\n",
              "  </tbody>\n",
              "</table>\n"
            ]
          },
          "metadata": {}
        }
      ]
    },
    {
      "cell_type": "markdown",
      "source": [
        "### **<h5>c. Set Objective Function**</h5>\n",
        "\n",
        "Defining an objective function is a key step in snack production. The objective function outlines the specific goal or outcome we aim to maximize the production process. It serves as a crucial tool in optimizing snack production, ensuring that our actions are purposeful and directed towards achieving our production objectives."
      ],
      "metadata": {
        "id": "TLI1U7chuF4x"
      }
    },
    {
      "cell_type": "code",
      "source": [
        "# @title <h5>Table 6. Objective Function\n",
        "\n",
        "# Import the raw data\n",
        "from pandas.io.formats.style import Styler\n",
        "import pandas as pd\n",
        "objective = pd.read_excel('/content/numericaloptimization/DATA/objective.xlsx')\n",
        "\n",
        "# Create a Styler object for the DataFrame\n",
        "styler = objective.style\n",
        "\n",
        "# Apply styles to the DataFrame\n",
        "styler.set_table_styles([\n",
        "    {'selector': 'th',\n",
        "     'props': [\n",
        "         ('text-align', 'center'),\n",
        "         ('background-color', 'lightblue'),\n",
        "         ('font-weight', 'bold'),\n",
        "         ('border', '1px solid black')\n",
        "     ]},\n",
        "    {'selector': 'td',\n",
        "     'props': [\n",
        "         ('text-align', 'center'),\n",
        "         ('background-color', 'lightgray'),\n",
        "         ('border', '1px solid black')\n",
        "     ]}\n",
        "])\n",
        "\n",
        "# Display the styled DataFrame\n",
        "display(styler)"
      ],
      "metadata": {
        "colab": {
          "base_uri": "https://localhost:8080/",
          "height": 83
        },
        "cellView": "form",
        "id": "N-qgZeEkuKtl",
        "outputId": "010f1263-adb3-4b34-f2e6-87c232a344d5"
      },
      "execution_count": null,
      "outputs": [
        {
          "output_type": "display_data",
          "data": {
            "text/plain": [
              "<pandas.io.formats.style.Styler at 0x7fdac7ebb340>"
            ],
            "text/html": [
              "<style type=\"text/css\">\n",
              "#T_05a9b th {\n",
              "  text-align: center;\n",
              "  background-color: lightblue;\n",
              "  font-weight: bold;\n",
              "  border: 1px solid black;\n",
              "}\n",
              "#T_05a9b td {\n",
              "  text-align: center;\n",
              "  background-color: lightgray;\n",
              "  border: 1px solid black;\n",
              "}\n",
              "</style>\n",
              "<table id=\"T_05a9b\" class=\"dataframe\">\n",
              "  <thead>\n",
              "    <tr>\n",
              "      <th class=\"blank level0\" >&nbsp;</th>\n",
              "      <th id=\"T_05a9b_level0_col0\" class=\"col_heading level0 col0\" >Objective Function</th>\n",
              "      <th id=\"T_05a9b_level0_col1\" class=\"col_heading level0 col1\" >Coefficient of x1</th>\n",
              "      <th id=\"T_05a9b_level0_col2\" class=\"col_heading level0 col2\" >Coefficient of x2</th>\n",
              "      <th id=\"T_05a9b_level0_col3\" class=\"col_heading level0 col3\" >Coefficient of x3</th>\n",
              "    </tr>\n",
              "  </thead>\n",
              "  <tbody>\n",
              "    <tr>\n",
              "      <th id=\"T_05a9b_level0_row0\" class=\"row_heading level0 row0\" >0</th>\n",
              "      <td id=\"T_05a9b_row0_col0\" class=\"data row0 col0\" >Z</td>\n",
              "      <td id=\"T_05a9b_row0_col1\" class=\"data row0 col1\" >800</td>\n",
              "      <td id=\"T_05a9b_row0_col2\" class=\"data row0 col2\" >350</td>\n",
              "      <td id=\"T_05a9b_row0_col3\" class=\"data row0 col3\" >250</td>\n",
              "    </tr>\n",
              "  </tbody>\n",
              "</table>\n"
            ]
          },
          "metadata": {}
        }
      ]
    },
    {
      "cell_type": "markdown",
      "source": [
        "The objective function of the problem is represented by the equation Z = 2500𝑥1 + 6000𝑥2 + 5000𝑥3. The coefficients of the decision variables 𝑥1, 𝑥2, and 𝑥3 indicate the contribution of each variable to the objective function. The goal is to maximize the value of Z, which represents the overall profit or optimization objective for home industry."
      ],
      "metadata": {
        "id": "07XPpmJgvsp6"
      }
    },
    {
      "cell_type": "markdown",
      "source": [
        "### **<h5>d. Inequalities Transformation**</h5>\n",
        "\n",
        "To transform an inequality (≤) into an equation (=), we can introduce slack variables and artificial variables. The slack variables represent the surplus or slackness in meeting the constraint, while the artificial variables are introduced to convert inequality (≥) into an equation. By adding these variables to the left side of the inequality, we modify the constraint to an equality. This process allows us to handle constraints more flexibly and solve linear programming problems effectively.\n",
        "\n",
        "\n"
      ],
      "metadata": {
        "id": "Fx8_YORav1-H"
      }
    },
    {
      "cell_type": "code",
      "source": [
        "# @title <h5>Table 7. Inequalities Transformation\n",
        "\n",
        "# Import the raw data\n",
        "from pandas.io.formats.style import Styler\n",
        "import pandas as pd\n",
        "converted = pd.read_excel('/content/numericaloptimization/DATA/converted.xlsx')\n",
        "\n",
        "# Create a Styler object for the DataFrame\n",
        "styler = converted.style\n",
        "\n",
        "# Apply styles to the DataFrame\n",
        "styler.set_table_styles([\n",
        "    {'selector': 'th',\n",
        "     'props': [\n",
        "         ('text-align', 'center'),\n",
        "         ('background-color', 'lightblue'),\n",
        "         ('font-weight', 'bold'),\n",
        "         ('border', '1px solid black')\n",
        "     ]},\n",
        "    {'selector': 'td',\n",
        "     'props': [\n",
        "         ('text-align', 'center'),\n",
        "         ('background-color', 'lightgray'),\n",
        "         ('border', '1px solid black')\n",
        "     ]}\n",
        "])\n",
        "\n",
        "# Display the styled DataFrame\n",
        "display(styler)"
      ],
      "metadata": {
        "colab": {
          "base_uri": "https://localhost:8080/",
          "height": 568
        },
        "cellView": "form",
        "id": "YSCAMAaYv7Gx",
        "outputId": "29799d9b-3b66-4fa8-e5e8-f801e424daca"
      },
      "execution_count": null,
      "outputs": [
        {
          "output_type": "display_data",
          "data": {
            "text/plain": [
              "<pandas.io.formats.style.Styler at 0x7fdad51a3d60>"
            ],
            "text/html": [
              "<style type=\"text/css\">\n",
              "#T_ce003 th {\n",
              "  text-align: center;\n",
              "  background-color: lightblue;\n",
              "  font-weight: bold;\n",
              "  border: 1px solid black;\n",
              "}\n",
              "#T_ce003 td {\n",
              "  text-align: center;\n",
              "  background-color: lightgray;\n",
              "  border: 1px solid black;\n",
              "}\n",
              "</style>\n",
              "<table id=\"T_ce003\" class=\"dataframe\">\n",
              "  <thead>\n",
              "    <tr>\n",
              "      <th class=\"blank level0\" >&nbsp;</th>\n",
              "      <th id=\"T_ce003_level0_col0\" class=\"col_heading level0 col0\" >Constraint</th>\n",
              "      <th id=\"T_ce003_level0_col1\" class=\"col_heading level0 col1\" >Equation</th>\n",
              "    </tr>\n",
              "  </thead>\n",
              "  <tbody>\n",
              "    <tr>\n",
              "      <th id=\"T_ce003_level0_row0\" class=\"row_heading level0 row0\" >0</th>\n",
              "      <td id=\"T_ce003_row0_col0\" class=\"data row0 col0\" >flour</td>\n",
              "      <td id=\"T_ce003_row0_col1\" class=\"data row0 col1\" >150x1 + 200x2 + 250x3 + s1 = 350000</td>\n",
              "    </tr>\n",
              "    <tr>\n",
              "      <th id=\"T_ce003_level0_row1\" class=\"row_heading level0 row1\" >1</th>\n",
              "      <td id=\"T_ce003_row1_col0\" class=\"data row1 col0\" >cheese</td>\n",
              "      <td id=\"T_ce003_row1_col1\" class=\"data row1 col1\" >50x1 + 5x2 + 7x3 + s2 = 250000</td>\n",
              "    </tr>\n",
              "    <tr>\n",
              "      <th id=\"T_ce003_level0_row2\" class=\"row_heading level0 row2\" >2</th>\n",
              "      <td id=\"T_ce003_row2_col0\" class=\"data row2 col0\" >potatoes</td>\n",
              "      <td id=\"T_ce003_row2_col1\" class=\"data row2 col1\" >50x2 + s3 = 60000</td>\n",
              "    </tr>\n",
              "    <tr>\n",
              "      <th id=\"T_ce003_level0_row3\" class=\"row_heading level0 row3\" >3</th>\n",
              "      <td id=\"T_ce003_row3_col0\" class=\"data row3 col0\" >salt</td>\n",
              "      <td id=\"T_ce003_row3_col1\" class=\"data row3 col1\" >5x1 + 7x2 + 8x3 + s4 = 10000</td>\n",
              "    </tr>\n",
              "    <tr>\n",
              "      <th id=\"T_ce003_level0_row4\" class=\"row_heading level0 row4\" >4</th>\n",
              "      <td id=\"T_ce003_row4_col0\" class=\"data row4 col0\" >vegetable oil</td>\n",
              "      <td id=\"T_ce003_row4_col1\" class=\"data row4 col1\" >15x1 + 25x2 + 20x3 + s5 = 100000</td>\n",
              "    </tr>\n",
              "    <tr>\n",
              "      <th id=\"T_ce003_level0_row5\" class=\"row_heading level0 row5\" >5</th>\n",
              "      <td id=\"T_ce003_row5_col0\" class=\"data row5 col0\" >baking powder</td>\n",
              "      <td id=\"T_ce003_row5_col1\" class=\"data row5 col1\" >5x1 + s6 = 50000</td>\n",
              "    </tr>\n",
              "    <tr>\n",
              "      <th id=\"T_ce003_level0_row6\" class=\"row_heading level0 row6\" >6</th>\n",
              "      <td id=\"T_ce003_row6_col0\" class=\"data row6 col0\" >sugar</td>\n",
              "      <td id=\"T_ce003_row6_col1\" class=\"data row6 col1\" >12x1 + 8x2 + 15x3 + s7 = 30000</td>\n",
              "    </tr>\n",
              "    <tr>\n",
              "      <th id=\"T_ce003_level0_row7\" class=\"row_heading level0 row7\" >7</th>\n",
              "      <td id=\"T_ce003_row7_col0\" class=\"data row7 col0\" >egg</td>\n",
              "      <td id=\"T_ce003_row7_col1\" class=\"data row7 col1\" >200x1 + 300x2 + 250x3 + s8 = 500000</td>\n",
              "    </tr>\n",
              "    <tr>\n",
              "      <th id=\"T_ce003_level0_row8\" class=\"row_heading level0 row8\" >8</th>\n",
              "      <td id=\"T_ce003_row8_col0\" class=\"data row8 col0\" >yeast</td>\n",
              "      <td id=\"T_ce003_row8_col1\" class=\"data row8 col1\" >5x3 + s9 = 2000</td>\n",
              "    </tr>\n",
              "    <tr>\n",
              "      <th id=\"T_ce003_level0_row9\" class=\"row_heading level0 row9\" >9</th>\n",
              "      <td id=\"T_ce003_row9_col0\" class=\"data row9 col0\" >spices</td>\n",
              "      <td id=\"T_ce003_row9_col1\" class=\"data row9 col1\" >5x1 + 10x2 + 5x3 + s10 = 10000</td>\n",
              "    </tr>\n",
              "    <tr>\n",
              "      <th id=\"T_ce003_level0_row10\" class=\"row_heading level0 row10\" >10</th>\n",
              "      <td id=\"T_ce003_row10_col0\" class=\"data row10 col0\" >butter</td>\n",
              "      <td id=\"T_ce003_row10_col1\" class=\"data row10 col1\" >4x1 + 6x2 + 8x3 + s11 = 30000</td>\n",
              "    </tr>\n",
              "    <tr>\n",
              "      <th id=\"T_ce003_level0_row11\" class=\"row_heading level0 row11\" >11</th>\n",
              "      <td id=\"T_ce003_row11_col0\" class=\"data row11 col0\" >machine</td>\n",
              "      <td id=\"T_ce003_row11_col1\" class=\"data row11 col1\" >60x1 + 90x2 + 75x3 + s12 = 108000</td>\n",
              "    </tr>\n",
              "    <tr>\n",
              "      <th id=\"T_ce003_level0_row12\" class=\"row_heading level0 row12\" >12</th>\n",
              "      <td id=\"T_ce003_row12_col0\" class=\"data row12 col0\" >labor</td>\n",
              "      <td id=\"T_ce003_row12_col1\" class=\"data row12 col1\" >45x1 + 75x2 + 60x3 + s13 = 216000</td>\n",
              "    </tr>\n",
              "    <tr>\n",
              "      <th id=\"T_ce003_level0_row13\" class=\"row_heading level0 row13\" >13</th>\n",
              "      <td id=\"T_ce003_row13_col0\" class=\"data row13 col0\" >nan</td>\n",
              "      <td id=\"T_ce003_row13_col1\" class=\"data row13 col1\" >x1 - s14 + a14 = 800</td>\n",
              "    </tr>\n",
              "    <tr>\n",
              "      <th id=\"T_ce003_level0_row14\" class=\"row_heading level0 row14\" >14</th>\n",
              "      <td id=\"T_ce003_row14_col0\" class=\"data row14 col0\" >nan</td>\n",
              "      <td id=\"T_ce003_row14_col1\" class=\"data row14 col1\" >x2 - s15 + a15 = 350</td>\n",
              "    </tr>\n",
              "    <tr>\n",
              "      <th id=\"T_ce003_level0_row15\" class=\"row_heading level0 row15\" >15</th>\n",
              "      <td id=\"T_ce003_row15_col0\" class=\"data row15 col0\" >nan</td>\n",
              "      <td id=\"T_ce003_row15_col1\" class=\"data row15 col1\" >x3 - s16 + a16 = 250</td>\n",
              "    </tr>\n",
              "  </tbody>\n",
              "</table>\n"
            ]
          },
          "metadata": {}
        }
      ]
    },
    {
      "cell_type": "markdown",
      "source": [
        "**Objective Function:** <br><br>\n",
        " 𝑍 = 2500𝑥1 + 6000𝑥2 + 5000𝑥3 + 0𝑆1 + 0𝑆2 + 0𝑆3 + 0𝑆4 + 0𝑆5 + 0𝑆6 + 0𝑆7 + 0𝑆8 + 0𝑆9 + 0𝑆10 + 0𝑆11 + 0𝑆12 + 0𝑆13 + 0𝑆14 + 0𝑆15 + 0𝑆16 + 0𝑆17 + 0𝑆18 − 𝑚𝑎16 − 𝑚𝑎17 − 𝑚𝑎18\n",
        "<br><br>\n",
        "In order to convert the inequality constraints (≤) into equality constraints (=), the slack variables (𝑆1 to 𝑆18) and artificial variables (𝑎16 to 𝑎18) are introduced. The table above presents the modified constraints with the added variables. The objective function 𝑍 remains the same, including the coefficients of the decision variables (𝑥1, 𝑥2, 𝑥3) as well as the newly introduced slack and artificial variables. The artificial variables are multiplied by a large negative constant (𝑚) to discourage their inclusion in the optimal solution.\n"
      ],
      "metadata": {
        "id": "Xm6Jy1Ab0HQM"
      }
    },
    {
      "cell_type": "markdown",
      "source": [
        "### **<h5>e. Create Simplex Table**</h5>\n",
        "\n",
        "The simplex table organizes relevant information about the variables, constraints, and objective function. It provides a clear representation of the optimization problem at hand, facilitating the application of the simplex method for finding the optimal solution. By organizing the variables, constraints, and objective function within a simplex table, we gain insights into the problem structure and iteratively perform simplex algorithm operations to navigate towards the optimal solution"
      ],
      "metadata": {
        "id": "tT7_Qh-l0LPT"
      }
    },
    {
      "cell_type": "markdown",
      "source": [
        "### **<h5>f. Iteration**</h5>\n",
        "\n",
        "Each iteration involves evaluating the current solution, identifying the most favorable variable to enter or leave the solution, and updating the tableau or simplex table accordingly. Through a series of iterations, the simplex method gradually improves the objective function value until an optimal solution is reached."
      ],
      "metadata": {
        "id": "evzDmeguIAQu"
      }
    },
    {
      "cell_type": "code",
      "source": [
        "# @title <h5>Optimization Finding</h5>\n",
        "from pulp import *\n",
        "import pandas as pd\n",
        "from tabulate import tabulate\n",
        "\n",
        "# Create a maximization problem\n",
        "prob = LpProblem(\"Snacks_Profit_Maximization\", LpMaximize)\n",
        "\n",
        "# Define the decision variables\n",
        "x1 = LpVariable(\"x1\", lowBound=800, cat='Continuous')\n",
        "x2 = LpVariable(\"x2\", lowBound=350, cat='Continuous')\n",
        "x3 = LpVariable(\"x3\", lowBound=250, cat='Continuous')\n",
        "\n",
        "# Define the objective function\n",
        "prob += 5 * x1 + 7 * x2 + 6 * x3\n",
        "\n",
        "# Define the constraints\n",
        "prob += 150 * x1 + 200 * x2 + 250 * x3 <= 350000\n",
        "prob += 50 * x1 + 5 * x2 + 7 * x3 <= 250000\n",
        "prob += 50 * x2 <= 60000\n",
        "prob += 5 * x1 + 7 * x2 + 8 * x3 <= 10000\n",
        "prob += 15 * x1 + 25 * x2 + 20 * x3 <= 100000\n",
        "prob += 5 * x1 <= 50000\n",
        "prob += 12 * x1 + 8 * x2 + 15 * x3 <= 30000\n",
        "prob += 200 * x1 + 300 * x2 + 250 * x3 <= 500000\n",
        "prob += 5 * x3 <= 2000\n",
        "prob += 5 * x1 + 10 * x2 + 5 * x3 <= 10000\n",
        "prob += 4 * x1 + 6 * x2 + 8 * x3 <= 30000\n",
        "prob += 60 * x1 + 90 * x2 + 75 * x3 <= 108000\n",
        "prob += 45 * x1 + 75 * x2 + 60 * x3 <= 216000\n",
        "\n",
        "# Solve the problem\n",
        "prob.solve()\n",
        "\n",
        "# Create a table to store the results\n",
        "results_table = pd.DataFrame(columns=['Snack', 'Selling Price (RM)', 'Initial Value', 'Optimized Value', 'Initial Profit (RM)', 'Optimized Profit (RM)'])\n",
        "\n",
        "# Define the initial values and selling prices\n",
        "initial_values = {'x1': 800, 'x2': 350, 'x3': 250}\n",
        "selling_prices = {'x1': 5, 'x2': 7, 'x3': 6}\n",
        "initial_profits = {snack: initial_values[snack] * selling_prices[snack] for snack in initial_values}\n",
        "\n",
        "# Add the snack values and profit to the table\n",
        "initial_value_total = sum(initial_values.values())\n",
        "optimized_value_total = sum([v.varValue for v in prob.variables()])\n",
        "for v in prob.variables():\n",
        "    snack_name = v.name\n",
        "    initial_value = initial_values[snack_name]\n",
        "    optimized_value = v.varValue\n",
        "    selling_price = selling_prices[snack_name]\n",
        "    initial_profit = initial_profits[snack_name]\n",
        "    optimized_profit = optimized_value * selling_price\n",
        "    results_table = results_table.append({'Snack': snack_name, 'Selling Price (RM)': selling_price, 'Initial Value': initial_value, 'Optimized Value': optimized_value,\n",
        "                                          'Initial Profit (RM)': initial_profit, 'Optimized Profit (RM)': optimized_profit}, ignore_index=True)\n",
        "\n",
        "# Add the total profit to the table\n",
        "total_initial_profit = sum(initial_profits.values())\n",
        "total_optimized_profit = value(prob.objective)\n",
        "results_table = results_table.append({'Snack': 'Total', 'Selling Price (RM)': '', 'Initial Value': initial_value_total, 'Optimized Value': optimized_value_total,\n",
        "                                      'Initial Profit (RM)': total_initial_profit, 'Optimized Profit (RM)': total_optimized_profit}, ignore_index=True)\n",
        "\n",
        "# Round up the values in the table\n",
        "results_table = results_table.round(decimals=2)\n",
        "\n",
        "# Set the table format\n",
        "table_format = 'fancy_grid'\n",
        "\n",
        "# Print the status of the solution\n",
        "print(\"Status:\", LpStatus[prob.status])\n",
        "\n",
        "# Print the results table\n",
        "print(\"\\nResults:\")\n",
        "print(tabulate(results_table, headers='keys', tablefmt=table_format))\n",
        "\n",
        "# Print the optimal profit separately\n",
        "print(\"\\nTotal Initial Profit (RM) =\", total_initial_profit)\n",
        "print(\"Total Optimized Profit (RM) =\", total_optimized_profit)"
      ],
      "metadata": {
        "colab": {
          "base_uri": "https://localhost:8080/"
        },
        "id": "JA8O_Q00wg5S",
        "outputId": "5931f447-cb60-4f0f-8a5f-8e36212d0638",
        "cellView": "form"
      },
      "execution_count": null,
      "outputs": [
        {
          "output_type": "stream",
          "name": "stdout",
          "text": [
            "Status: Optimal\n",
            "\n",
            "Results:\n",
            "╒════╤═════════╤══════════════════════╤═════════════════╤═══════════════════╤═══════════════════════╤═════════════════════════╕\n",
            "│    │ Snack   │ Selling Price (RM)   │   Initial Value │   Optimized Value │   Initial Profit (RM) │   Optimized Profit (RM) │\n",
            "╞════╪═════════╪══════════════════════╪═════════════════╪═══════════════════╪═══════════════════════╪═════════════════════════╡\n",
            "│  0 │ x1      │ 5                    │             800 │             962.5 │                  4000 │                  4812.5 │\n",
            "├────┼─────────┼──────────────────────┼─────────────────┼───────────────────┼───────────────────────┼─────────────────────────┤\n",
            "│  1 │ x2      │ 7                    │             350 │             350   │                  2450 │                  2450   │\n",
            "├────┼─────────┼──────────────────────┼─────────────────┼───────────────────┼───────────────────────┼─────────────────────────┤\n",
            "│  2 │ x3      │ 6                    │             250 │             250   │                  1500 │                  1500   │\n",
            "├────┼─────────┼──────────────────────┼─────────────────┼───────────────────┼───────────────────────┼─────────────────────────┤\n",
            "│  3 │ Total   │                      │            1400 │            1562.5 │                  7950 │                  8762.5 │\n",
            "╘════╧═════════╧══════════════════════╧═════════════════╧═══════════════════╧═══════════════════════╧═════════════════════════╛\n",
            "\n",
            "Total Initial Profit (RM) = 7950\n",
            "Total Optimized Profit (RM) = 8762.5\n"
          ]
        }
      ]
    },
    {
      "cell_type": "markdown",
      "source": [
        "# <h3><b> F. CONCLUSION"
      ],
      "metadata": {
        "id": "jh5gd-ofIZzl"
      }
    },
    {
      "cell_type": "markdown",
      "source": [
        "In conclusion, the linear programming model developed for optimizing the production process of snack products has provided valuable insights and solutions. By formulating an objective function to maximize the total profit and imposing various constraints, we were able to determine the optimal production quantities for Cheese Puffs, Potato Chips, and Pretzels.\n",
        "\n",
        "Based on the results obtained from the optimization process, the optimal production quantities are as follows: 962 units of Cheese Puffs, 350 units of Potato Chips, and 250 units of Pretzels. These quantities were determined by considering the available resources, such as raw materials, machine hours, and labour hours, as well as the selling prices of the snack products.\n",
        "\n",
        "The maximum profit achieved by the optimal solution is RM8762.50, representing the highest potential earnings from the production process. This optimal solution demonstrates the effective allocation of resources and production quantities to maximize profitability.\n",
        "\n",
        "Based on the results obtained from the linear programming model, it is worth noting a limitation in the optimization of the production quantities for Potato Chips and Pretzels. The model suggests producing 350 units of Potato Chips and 250 units of Pretzels, which are the lower bounds set for these products. The specified constraints, such as the availability of resources and the production capacity, may restrict the optimal production quantities for Potato Chips and Pretzels. To address this limitation, further analysis and adjustments to the model may be necessary.\n",
        "\n",
        "Overall, the application of linear programming techniques in optimizing the production process has proven to be a valuable tool for decision-making and maximizing profitability."
      ],
      "metadata": {
        "id": "_56wV39rqC6X"
      }
    },
    {
      "cell_type": "markdown",
      "source": [
        "# <h3><b> G. REFERENCES"
      ],
      "metadata": {
        "id": "BbvOQlb9qKmd"
      }
    },
    {
      "cell_type": "markdown",
      "source": [
        "Almeida, F., Barbieri, J. D., Montevechi, J. a. B., Gomes, J. R. B., & Pinho, A. R. (2019). A linear programming optimization model applied to the decision-making process of a Brazilian e-commerce company. Exacta, 17(3), 149–157. https://doi.org/10.5585/exactaep.v17n3.8503\n",
        "\n",
        "\n",
        "\n",
        "Anggoro, B. S., Rosida, R., Mentari, A. M., Novitasari, C., & Yulista, I. (2019). Profit Optimization Using Simplex Methods on Home Industry Bintang Bakery in Sukarame Bandar Lampung. Journal of Physics, 1155, 012010. https://doi.org/10.1088/1742-6596/1155/1/012010\n",
        "\n",
        "\n",
        "\n",
        "Uthayageetha, D. (2017). The Maximizing the Profit in Agriculture Field by Simplex Method. International Journal of Advanced Research in Engineering and Technology (IJARET), Volume 8, Issue 6, November-December 2017, pp. 142-146, Available at SSRN https://ssrn.com/abstract=3881003"
      ],
      "metadata": {
        "id": "DgSb0e_7qT82"
      }
    },
    {
      "cell_type": "markdown",
      "source": [
        "# <h3><b> H. APPENDIX"
      ],
      "metadata": {
        "id": "C9q_5LkNIjhA"
      }
    },
    {
      "cell_type": "code",
      "source": [
        "# @title <h5>1. Library</h5>\n",
        "\n",
        "#Importing Necessary Libraries\n",
        "\n",
        "# 1. Plotting Libraries\n",
        "\n",
        "import pandas as pd\n",
        "import numpy as np\n",
        "import matplotlib.pyplot as plt\n",
        "import seaborn as sns\n",
        "import cufflinks as cf\n",
        "%matplotlib inline\n",
        "\n",
        "# 2. Warning\n",
        "\n",
        "import warnings\n",
        "warnings.filterwarnings(\"ignore\", category=FutureWarning)\n",
        "\n",
        "# 3. Table\n",
        "\n",
        "from tabulate import tabulate\n",
        "!pip install tabulate\n",
        "\n",
        "# 4. Dashboard\n",
        "\n",
        "!pip install pywedge\n",
        "import pywedge as pw\n",
        "\n",
        "# 5. To read pdf\n",
        "\n",
        "from IPython.display import IFrame\n",
        "\n",
        "# 6. To convert to HTML\n",
        "\n",
        "!pip install nbconvert\n",
        "!pip install pulp\n",
        "!pip install flask scipy"
      ],
      "metadata": {
        "id": "n7iD4fH9Iulw",
        "cellView": "form"
      },
      "execution_count": null,
      "outputs": []
    },
    {
      "cell_type": "code",
      "source": [
        "import pandas as pd"
      ],
      "metadata": {
        "id": "EfQhW_Z6Bcxe"
      },
      "execution_count": null,
      "outputs": []
    },
    {
      "cell_type": "code",
      "source": [
        "# @title <h5>2. To disconnect to Github</h5>\n",
        "\n",
        "rm -r numericaloptimization # Caution! Only use this when it is absolutely necessary."
      ],
      "metadata": {
        "cellView": "form",
        "id": "cjm8wdflgdjD"
      },
      "execution_count": null,
      "outputs": []
    },
    {
      "cell_type": "code",
      "source": [
        "# @title <h5>3. To clone Github</h5>\n",
        "\n",
        "!git clone https://github.com/Kristian2828/numericaloptimization.git"
      ],
      "metadata": {
        "cellView": "form",
        "id": "LvddAvrnfEAX"
      },
      "execution_count": null,
      "outputs": []
    },
    {
      "cell_type": "code",
      "source": [
        "# @title <h5>4. Calculator</h5>\n",
        "from flask import Flask, render_template, request\n",
        "from scipy.optimize import linprog\n",
        "\n",
        "app = Flask(__name__)\n",
        "\n",
        "# Home page\n",
        "@app.route('/')\n",
        "def home():\n",
        "    return render_template('index.html')\n",
        "\n",
        "# Solver page\n",
        "@app.route('/solver', methods=['POST'])\n",
        "def solver():\n",
        "    # Extracting input values\n",
        "    x1 = int(request.form['x1'])\n",
        "    x2 = int(request.form['x2'])\n",
        "    x3 = int(request.form['x3'])\n",
        "\n",
        "    # Coefficients of the objective function\n",
        "    c = [-5, -7, -6]\n",
        "\n",
        "    # Coefficients of the constraints\n",
        "    A = [[-150, -200, -250],\n",
        "         [-50, -5, -7],\n",
        "         [0, -50, 0],\n",
        "         [-5, -7, -8],\n",
        "         [-15, -25, -20],\n",
        "         [-5, 0, 0],\n",
        "         [-12, -8, -15],\n",
        "         [-200, -300, -250],\n",
        "         [0, 0, -5],\n",
        "         [-5, -10, -5],\n",
        "         [-4, -6, -8],\n",
        "         [-60, -90, -75],\n",
        "         [-45, -75, -60]]\n",
        "\n",
        "    # Upper bounds of the constraints\n",
        "    b = [-350000, -250000, -60000, -10000, -100000, -50000, -30000, -500000, -2000, -10000, -30000, -108000, -216000]\n",
        "\n",
        "    # Lower bounds of the variables\n",
        "    x1_bounds = (800, None)\n",
        "    x2_bounds = (350, None)\n",
        "    x3_bounds = (250, None)\n",
        "\n",
        "    # Solving the linear programming problem\n",
        "    result = linprog(c, A_ub=A, b_ub=b, bounds=[x1_bounds, x2_bounds, x3_bounds], method='simplex')\n",
        "\n",
        "    if result.success:\n",
        "        # Extracting the optimized variables\n",
        "        x1_opt = result.x[0]\n",
        "        x2_opt = result.x[1]\n",
        "        x3_opt = result.x[2]\n",
        "\n",
        "        # Calculating the maximum profit\n",
        "        max_profit = -result.fun\n",
        "\n",
        "        return render_template('result.html', x1_opt=x1_opt, x2_opt=x2_opt, x3_opt=x3_opt, max_profit=max_profit)\n",
        "\n",
        "    return 'Error: Unable to find a solution.'\n",
        "\n",
        "if __name__ == '__main__':\n",
        "    app.run(debug=True)\n"
      ],
      "metadata": {
        "cellView": "form",
        "id": "7r62PIJQ_cLe"
      },
      "execution_count": null,
      "outputs": []
    }
  ]
}